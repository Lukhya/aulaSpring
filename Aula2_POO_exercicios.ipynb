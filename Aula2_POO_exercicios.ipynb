{
  "nbformat": 4,
  "nbformat_minor": 0,
  "metadata": {
    "colab": {
      "provenance": [],
      "authorship_tag": "ABX9TyNy+UiX0RMj58TctorSJIUb",
      "include_colab_link": true
    },
    "kernelspec": {
      "name": "python3",
      "display_name": "Python 3"
    },
    "language_info": {
      "name": "python"
    }
  },
  "cells": [
    {
      "cell_type": "markdown",
      "metadata": {
        "id": "view-in-github",
        "colab_type": "text"
      },
      "source": [
        "<a href=\"https://colab.research.google.com/github/Lukhya/aulaSpring/blob/main/Aula2_POO_exercicios.ipynb\" target=\"_parent\"><img src=\"https://colab.research.google.com/assets/colab-badge.svg\" alt=\"Open In Colab\"/></a>"
      ]
    },
    {
      "cell_type": "code",
      "execution_count": null,
      "metadata": {
        "id": "uRM1XNpdz-6i"
      },
      "outputs": [],
      "source": []
    },
    {
      "cell_type": "markdown",
      "source": [
        "# **Pacotes, modulos e funções - Exercicios**\n",
        "Devemos lembrar que temos que configurar o colab para trabalhar com modulos e pastas\n",
        "\n"
      ],
      "metadata": {
        "id": "QxXCHxKZ0YPc"
      }
    },
    {
      "cell_type": "code",
      "source": [
        "from google.colab import drive\n",
        "drive.mount('/content/gdrive')"
      ],
      "metadata": {
        "colab": {
          "base_uri": "https://localhost:8080/"
        },
        "id": "OaicgMS015xk",
        "outputId": "660add82-b984-4fb8-c9b2-30801c87a6f8"
      },
      "execution_count": null,
      "outputs": [
        {
          "output_type": "stream",
          "name": "stdout",
          "text": [
            "Mounted at /content/gdrive\n"
          ]
        }
      ]
    },
    {
      "cell_type": "code",
      "source": [
        "import sys\n",
        "sys.path.insert(0,'/content/gdrive/MyDrive/python_teste/modulo')"
      ],
      "metadata": {
        "id": "KRgvhKXP2IdW"
      },
      "execution_count": null,
      "outputs": []
    },
    {
      "cell_type": "markdown",
      "source": [
        "Exercício 1 \n",
        "\n",
        "Criar um modulo calculadora que contenha as operações aritméticas de soma, subtração, multiplicação e divisão. "
      ],
      "metadata": {
        "id": "Jm4f32Ae1tm8"
      }
    },
    {
      "cell_type": "code",
      "source": [
        "import calculadora\n",
        "\n",
        "calculadora.soma(1,2)"
      ],
      "metadata": {
        "colab": {
          "base_uri": "https://localhost:8080/"
        },
        "id": "K2mO3c7O1NzW",
        "outputId": "3c47758a-8cf8-423c-d974-eabe1a9508a0"
      },
      "execution_count": 11,
      "outputs": [
        {
          "output_type": "execute_result",
          "data": {
            "text/plain": [
              "3"
            ]
          },
          "metadata": {},
          "execution_count": 11
        }
      ]
    },
    {
      "cell_type": "markdown",
      "source": [
        "Exercício 2 \n",
        "\n",
        "Criar um modulo funcao.py que contenha as seguintes funções: \n",
        "\n",
        " \n",
        "\n",
        "\n",
        "\n",
        "*  função  que retorne a quantidade de dígitos de um determinado número inteiro informado pelo usuário. \n",
        "*  função que recebe um argumento inteiro. A função  deve retornar o caractere ‘P’, se seu argumento for positivo, e ‘N’, se seu argumento for zero ou negativo. \n",
        "\n"
      ],
      "metadata": {
        "id": "PGkYGhNa0l_S"
      }
    },
    {
      "cell_type": "code",
      "source": [
        "import funcao\n",
        "num = int(input(\"Digite um numero: \"))\n",
        "print(funcao.qtdeDigitos(num))\n",
        "print(funcao.positivo(num))\n"
      ],
      "metadata": {
        "colab": {
          "base_uri": "https://localhost:8080/"
        },
        "id": "cnzI8zbl-qRe",
        "outputId": "91d85b53-2bbb-4201-c4b8-935d29c6a05d"
      },
      "execution_count": 15,
      "outputs": [
        {
          "output_type": "stream",
          "name": "stdout",
          "text": [
            "Digite um numero: 9\n",
            "None\n",
            "None\n"
          ]
        }
      ]
    }
  ]
}